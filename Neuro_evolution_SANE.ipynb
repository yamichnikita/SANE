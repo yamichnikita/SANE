{
  "nbformat": 4,
  "nbformat_minor": 0,
  "metadata": {
    "colab": {
      "provenance": [],
      "collapsed_sections": [
        "K2nOX7m_FdNG",
        "zrlHRZNfFjJt",
        "Wdu0DqamJ-JQ",
        "Q3dR4qoTapld",
        "yG9O5yDS958g",
        "kWptrtrDSafw",
        "c0mNQz2SVHkm",
        "oeS1wdhCiAfm"
      ],
      "gpuType": "T4"
    },
    "kernelspec": {
      "name": "python3",
      "display_name": "Python 3"
    },
    "language_info": {
      "name": "python"
    },
    "accelerator": "GPU"
  },
  "cells": [
    {
      "cell_type": "markdown",
      "source": [
        "#### Ген"
      ],
      "metadata": {
        "id": "K2nOX7m_FdNG"
      }
    },
    {
      "cell_type": "code",
      "execution_count": null,
      "metadata": {
        "id": "OmkBS7ax6IWp"
      },
      "outputs": [],
      "source": [
        "from enum import Enum # библиотека для создания и использования перечислений\n",
        "import random"
      ]
    },
    {
      "cell_type": "code",
      "source": [
        "class ConnectionType(Enum):\n",
        "    INPUT = 1      # именованное значение\n",
        "    OUTPUT = 2\n",
        "\n",
        "    @classmethod\n",
        "    def from_label(cls, label: int):\n",
        "        return cls(cls.OUTPUT if label > (2**7 - 1) else cls.INPUT)"
      ],
      "metadata": {
        "id": "hO6iaQit6Py3"
      },
      "execution_count": null,
      "outputs": []
    },
    {
      "cell_type": "code",
      "source": [
        "# СКРЕЩИВАНИЕ МЕЖДУ ДВУМЯ ЦЕЛЫМИ ЧИСЛАМИ (МЕТКАМИ)\n",
        "\n",
        "def crossover_integer(parent1: int, # первая родительская целочисленная метка\n",
        "                      parent2: int, # вторая родительская целочисленная метка\n",
        "                      precision: int): # точность (количество битов, используемых для представления чисел)\n",
        "    crossover_point = random.randrange(precision) #  случайня точка, где будет происходить разделение\n",
        "    #  строчка кода вычисляет маску, где все биты ниже precision равны 1, а все биты выше precision равны 0\n",
        "    #  выбибраемь определенные биты в генотипе на основе точки кроссовера\n",
        "    # & - ПОБИТОВАЯ операция И\n",
        "    mask1 = ((2 ** precision - 1) << crossover_point) & (2 ** precision - 1)  # <<crossover_point - это побитовый сдвиг влево на crossover_point разрядов\n",
        "    mask2 = ((2 ** precision - 1) >> (precision - crossover_point)) & (2 ** precision - 1)\n",
        "    #  parent1 & mask1 - это операция побитового \"И\"\n",
        "    #  Оставляем только те биты в parent1, которые в маске mask1 равны 1, а все остальные биты становятся 0.\n",
        "    child1 = (parent1 & mask1) | (parent2 & mask2) # побитовое \"ИЛИ\".объединяем оба результата. в итоге получается новое число child1.\n",
        "    child2 = (parent2 & mask1) | (parent1 & mask2)\n",
        "    return child1, child2"
      ],
      "metadata": {
        "id": "SARx61v_GQbI"
      },
      "execution_count": null,
      "outputs": []
    },
    {
      "cell_type": "code",
      "source": [
        "# СКРЕЩИВАНИЕ ДВУХ ГЕНОВ (RealGene)\n",
        "# принимает два вещественных значения родительских генов и возвращает два вещественных значения дочерних генов\n",
        "def crossover_real(parent1: float, parent2: float, blend=0.1):\n",
        "    child1 = parent1 - blend * (parent2 - parent1) # новое число в интевале от parent1 до parent2\n",
        "    child2 = parent2 + blend * (parent2 - parent1)\n",
        "    return child1, child2"
      ],
      "metadata": {
        "id": "E266hWTX6adn"
      },
      "execution_count": null,
      "outputs": []
    },
    {
      "cell_type": "code",
      "source": [
        "# функция invert_bit используется для инвертирования значения определенного бита в целочисленном числе value.\n",
        "def invert_bit(value: int, # целочисленное значение, бит которого требуется инвертировать\n",
        "               bit: int, # позиция бита в числе value, который должен быть инвертирован\n",
        "               precision: int): # точность (количество бит) числа value\n",
        "    mask = (1 << bit) & (2 ** precision - 1) # все биты в mask, кроме бита на позиции bit, будут равны 0, а бит на позиции bit будет равен 1.\n",
        "    return value ^ mask # побитовая операция \"ИСКЛЮЧАЮЩЕЕ ИЛИ\""
      ],
      "metadata": {
        "id": "xB3TClXu6dWu"
      },
      "execution_count": null,
      "outputs": []
    },
    {
      "cell_type": "code",
      "source": [
        "# Класс RealGene реализует логику работы с одним геном, использующим вещественное кодирование\n",
        "class RealGene(object):\n",
        "    def __init__(self, value: float, min_value: float, max_value: float):\n",
        "        self.value = value          # вещественное значение гена\n",
        "        self.min_value = min_value  # минимальное случайно сген. число\n",
        "        self.max_value = max_value  # максимальное случайно сген. число\n",
        "\n",
        "    # инициализация векторов входных и выходных весов случайными значениями\n",
        "    def init(self):\n",
        "        self.value = random.uniform(self.min_value, self.max_value) # случайное значение, полученное из равномерного распределения в диапазоне от min_value до max_value\n",
        "\n",
        "    # мутация векторов весов, используется нормальное распределение в окрестности значения гена\n",
        "    def mutation(self):\n",
        "        self.value = random.gauss(mu=self.value, sigma=0.1)   # случайное значение, полученное из нормального распределения с заданным средним и стандартным отклонением\n",
        "\n",
        "    # СКРЕЩИВАНИЕ ДВУХ НЕЙРОНОВ, используется скрещивание смешением; в качестве результата возвращаются два новых нейрона\n",
        "    @staticmethod    #  метод не имеет доступа к экземпляру класса или к атрибутам экземпляра\n",
        "    def crossover(parent1, parent2):     # parent1 и parent2 - экзепляры класса RealGene\n",
        "        min_value = parent1.min_value\n",
        "        max_value = parent1.max_value\n",
        "        child1_gene, child2_gene = crossover_real(    # скрещивание двух генов\n",
        "            parent1=parent1.value,\n",
        "            parent2=parent2.value)\n",
        "        child1 = RealGene(          # первый нейрон потомок\n",
        "            value=child1_gene,\n",
        "            min_value=min_value,\n",
        "            max_value=max_value)\n",
        "        child2 = RealGene(          # второй нейрон потомок\n",
        "            value=child2_gene,\n",
        "            min_value=min_value,\n",
        "            max_value=max_value)\n",
        "        return child1, child2"
      ],
      "metadata": {
        "id": "10u_zfGj6gxn"
      },
      "execution_count": null,
      "outputs": []
    },
    {
      "cell_type": "code",
      "source": [
        "# Класс Gene реализует логику работы с одним геном, хранящим вес и структуру нейрона\n",
        "class Gene(object):\n",
        "    def __init__(self, min_value: float, max_value: float):\n",
        "        self.label = 0    # целочисленное значение, хранящее направление связи (входная или выходная) и индекс нейрона, с которым установлена связь\n",
        "        #self.weight = IntegerGene(\n",
        "        #    value=0.0,\n",
        "        #    min_value=min_value,\n",
        "        #    max_value=max_value,\n",
        "        #    precision=32)\n",
        "        self.weight = RealGene(                         # вес связи, объект класса RealGene\n",
        "            value=0.0,\n",
        "            min_value=min_value,\n",
        "            max_value=max_value)\n",
        "\n",
        "    def get_connection_type(self) -> ConnectionType:    # метод, возвращает направление соединения (label > 127 - нейрон выходной, иначе входной)\n",
        "        return ConnectionType.from_label(self.label)\n",
        "\n",
        "    def get_index(self, neurons_count) -> int:          # метод возвращает индекс нейрона\n",
        "        return self.label % neurons_count\n",
        "\n",
        "    def get_weight(self) -> float:                      # метод возвращает вес связи\n",
        "        return self.weight.value\n",
        "\n",
        "    def init(self):\n",
        "        self.label = int(random.random() * (2**8 - 1))  # инициализация метки случайным числом от 0 до 255\n",
        "        self.weight.init()                              # инициализация веса связи\n",
        "\n",
        "    # мутация весов и меток; для метки используется инвертирование бита; для веса вызывается метод mutation класса RealGene\n",
        "    def mutation(self):\n",
        "      # мутация произойдет с вероятностью 0.01 (1 %)\n",
        "        if random.random() <= 0.01:\n",
        "            mutation_bit = random.randrange(8)  # генерация случайного числа от 0 до 8. Получаем номер бита, который будем инвертировать\n",
        "            self.label = invert_bit(self.label, mutation_bit, 8) # инвертируем полученный ранее номер бита метки\n",
        "            self.weight.mutation()    # мутация веса связи\n",
        "\n",
        "    # скрещивание двух генов; для метки используется одноточечный кроссинговер; для веса вызывается метод crossover класса RealGene\n",
        "    @staticmethod\n",
        "    def crossover(parent1, parent2):    # parent1 и parent2 - экзепляры класса Gene\n",
        "        min_value = parent1.weight.min_value\n",
        "        max_value = parent1.weight.max_value\n",
        "        child1 = Gene(                   # потомок 1\n",
        "            min_value=min_value,\n",
        "            max_value=max_value)\n",
        "        child2 = Gene(                   # потомок 2\n",
        "            min_value=min_value,\n",
        "            max_value=max_value)\n",
        "        child1.label, child2.label = crossover_integer(      # скрещивание метки\n",
        "            parent1=parent1.label,\n",
        "            parent2=parent2.label,\n",
        "            precision=8)\n",
        "        #child1.weight, child2.weight = IntegerGene.crossover(\n",
        "        #    parent1=parent1.weight,\n",
        "        #    parent2=parent2.weight)\n",
        "        child1.weight, child2.weight = RealGene.crossover(   # скрещивание весов\n",
        "            parent1=parent1.weight,\n",
        "            parent2=parent2.weight)\n",
        "        return child1, child2"
      ],
      "metadata": {
        "id": "_XIzwUI96lek"
      },
      "execution_count": null,
      "outputs": []
    },
    {
      "cell_type": "markdown",
      "source": [
        "#### Хромосома (нейрон)"
      ],
      "metadata": {
        "id": "zrlHRZNfFjJt"
      }
    },
    {
      "cell_type": "code",
      "source": [
        "import numpy as np"
      ],
      "metadata": {
        "id": "pfVeyTulFnAM"
      },
      "execution_count": null,
      "outputs": []
    },
    {
      "cell_type": "code",
      "source": [
        "# класс Neuron реализует логику работы с нейроном\n",
        "class Neuron(object):\n",
        "    def __init__(self,\n",
        "                 connections_count: int):\n",
        "        self.genes = []                              # список, хранящий гены (объекты класса Gene)\n",
        "        self.connections_count = connections_count   # количество соединиений в одном нейроне (подразумевается, что сеть может быть не полносвязной)\n",
        "        self.fitness = 0.0                           # приспособленность нейрона\n",
        "\n",
        "\n",
        "    # инициализация нейрона. Инициализация происходит в цикле, в котором создаются гены со случайными значениями полей и в конце итерации проверяется,\n",
        "    # что гены имеют разные направления соединений.\n",
        "    # Это необходимо для того, чтобы не получился нейрон, имеющий связи одного направления, поскольку такая конфигурация нейрона не будет иметь смысла\n",
        "    def init(self,\n",
        "             min_value: float,\n",
        "             max_value: float):\n",
        "        while True:\n",
        "            for i in range(self.connections_count):    # количество генов в хромосоме также равно connections_count\n",
        "                self.genes.append(Gene(                # добавляем гены в хромосому\n",
        "                    min_value=min_value,\n",
        "                    max_value=max_value))\n",
        "            for i in range(self.connections_count):\n",
        "                self.genes[i].init()   # инициализируем метку и вес связи\n",
        "            connection_types = [connection.get_connection_type().value for connection in self.genes]\n",
        "            if len(set(connection_types)) > 1:\n",
        "                break\n",
        "            self.genes.clear()\n",
        "\n",
        "    # получение вектора весов из генов соответсвующего направления\n",
        "    def get_weights(self,\n",
        "                    neurons_count: int,    # количество нейронов в скрытом слое (необходимо для вычисления индекса нейрона входного либо выходного слоев)\n",
        "                    connection: ConnectionType) -> np.array:   # напрадение соединения\n",
        "        result = np.zeros(neurons_count)\n",
        "        for gene in self.genes:\n",
        "            if gene.get_connection_type() == connection:\n",
        "                result[gene.get_index(neurons_count)] = gene.get_weight()\n",
        "        return result\n",
        "    # получение вектора весов входных соединений скрытого слоя\n",
        "    def get_input_weights(self,\n",
        "                          neurons_count: int) -> np.array:   # количество нейронов в скрытом слое\n",
        "        return self.get_weights(\n",
        "            neurons_count=neurons_count,\n",
        "            connection=ConnectionType.INPUT)\n",
        "\n",
        "    # получение вектора весов выходных соединений скрытого слоя\n",
        "    def get_output_weights(self,\n",
        "                           neurons_count: int) -> np.array:  # количество нейронов в скрытом слое\n",
        "        return self.get_weights(\n",
        "            neurons_count=neurons_count,\n",
        "            connection=ConnectionType.OUTPUT)\n",
        "\n",
        "    # мутация генов. Вызывается метод mutation класса Gene для каждого нега\n",
        "    def mutation(self):\n",
        "        for i in range(len(self.genes)):\n",
        "            self.genes[i].mutation()\n",
        "\n",
        "    # скрещивание двух нейронов. Вызывается метод mutation класса Gene для каждого гена\n",
        "    @staticmethod\n",
        "    def crossover(parent1, parent2):\n",
        "        genes_count = len(parent1.genes)\n",
        "        connections_count = parent1.connections_count\n",
        "        child1 = Neuron(\n",
        "            connections_count=connections_count)\n",
        "        child2 = Neuron(\n",
        "            connections_count=connections_count)\n",
        "        for i in range(genes_count):\n",
        "            child1_gene, child2_gene = Gene.crossover(\n",
        "                parent1=parent1.genes[i],\n",
        "                parent2=parent2.genes[i])\n",
        "            child1.genes.append(child1_gene)\n",
        "            child2.genes.append(child2_gene)\n",
        "        return child1, child2"
      ],
      "metadata": {
        "id": "shlLLL5AF72L"
      },
      "execution_count": null,
      "outputs": []
    },
    {
      "cell_type": "markdown",
      "source": [
        "#### Популяция нейронов"
      ],
      "metadata": {
        "id": "Wdu0DqamJ-JQ"
      }
    },
    {
      "cell_type": "code",
      "source": [
        "# Класс NeuronPopulation реализует логику работы с популяцией нейронов, предоставляя высокоуровневый интерфейс над массивом нейронов\n",
        "class NeuronPopulation(object):\n",
        "    def __init__(self,\n",
        "                 population_size: int,\n",
        "                 connections_count: int):\n",
        "        self.neurons = []                       # Массив нейронов\n",
        "        for i in range(population_size):        # Создание популяции нейронов\n",
        "            self.neurons.append(Neuron(\n",
        "                connections_count=connections_count))\n",
        "\n",
        "    def init(self,\n",
        "             min_value: float,\n",
        "             max_value: float):\n",
        "        for neuron in self.neurons:             # инициализация нейронов в популяции. Для каждого нейрона вызывается метод init, в который передаются параметры входа\n",
        "            neuron.init(\n",
        "                min_value=min_value,\n",
        "                max_value=max_value)\n",
        "\n",
        "    # скрещивание верхней четверти лучших нейронов. Потомки при этом заменяют худшие особи\n",
        "    def crossover(self):\n",
        "        self.neurons.sort(key=lambda x: x.fitness)           # сортировка массива нейронов по функции приспособленности\n",
        "        selected_neuron_count = int(len(self.neurons) / 4)   # выбираем из массива нейронов верхнюю четверть нейронов с лучшими значениями функции приспособленности\n",
        "        selected_neuron_count -= selected_neuron_count % 2   # оставляем четное количество нейронов в списке\n",
        "        for i in range(0, selected_neuron_count, 2):\n",
        "            parent1 = self.neurons[i]\n",
        "            parent2 = self.neurons[i + 1]\n",
        "            child1, child2 = Neuron.crossover(\n",
        "                parent1=parent1,\n",
        "                parent2=parent2)\n",
        "            selected1 = parent1 if random.randrange(2) == 0 else parent2        # после скрещивания остается только 1 случайный потомок\n",
        "            selected2 = child1 if random.randrange(2) == 0 else child2          # вместо второго потомка используется один из родителей\n",
        "            self.neurons[-selected_neuron_count + i] = selected1                # обновляем нейроны в списке\n",
        "            self.neurons[-selected_neuron_count + i + 1] = selected2            # обновляем нейроны в списке\n",
        "\n",
        "    def mutation(self):\n",
        "        for i in range(len(self.neurons)):\n",
        "            self.neurons[i].mutation()                       # мутация нейронов\n",
        "\n",
        "    def __getitem__(self, key: int) -> Neuron:               # встроенный метод языка Python, позволяющий обращаться к данному объекту как к коллекции.\n",
        "        return self.neurons[key]                             # при этом возвращается соответствующий индексу нейрон\n",
        "\n",
        "    def __len__(self):                                       # встроенный метод языка Python, позволяющий получить размер коллекции.\n",
        "        return len(self.neurons)                             # при этом возвращается размер массива нейронов"
      ],
      "metadata": {
        "id": "OHAt42shKqX9"
      },
      "execution_count": null,
      "outputs": []
    },
    {
      "cell_type": "markdown",
      "source": [
        "#### Blueprint (комбинация нейронов)"
      ],
      "metadata": {
        "id": "Q3dR4qoTapld"
      }
    },
    {
      "cell_type": "code",
      "source": [
        "from typing import List # используется для аннотации типов данных, чтобы указать, что переменная должна быть списком."
      ],
      "metadata": {
        "id": "QXc-uBhDdtVL"
      },
      "execution_count": null,
      "outputs": []
    },
    {
      "cell_type": "code",
      "source": [
        "# класс Blueprint - реализует логику работы с комбинацией  нейронов.\n",
        "# комбинация рассматривается как отдельная особь\n",
        "# хромосома - массив индексов нейронов\n",
        "\n",
        "class Blueprint(object):\n",
        "    def __init__(self,\n",
        "                 neurons: List[int],  # массив индексов нейронов (комбинация нейронов)\n",
        "                 neuron_population: NeuronPopulation):\n",
        "        self.neurons = neurons                       # массив индексов нейронов\n",
        "        self.neuron_population = neuron_population   # популяция нейронов (указатель на популяцию нейронов, поскольку данный объект не должен владеть популяцией)\n",
        "        self.fitness = 0.0                           # значение приспособленности данной комбинации\n",
        "\n",
        "    # мутация комбинации. В результате мутации происходит замена случайно выбранного нейрона в текущей комбинации на случайно выбранный нейрон из популяции нейронов\n",
        "    def mutation(self):\n",
        "        if random.random() <= 0.01:\n",
        "            new_neuron_index = random.randrange(len(self.neuron_population))     # случайно выбранный нейрон в популяции нейронов\n",
        "            neuron_index = random.randrange(len(self.neurons))                   # случайно выбранный нейрон в текущей комбинации\n",
        "            self.neurons[neuron_index] = new_neuron_index                        # замена нейронов\n",
        "\n",
        "    # скрещивание. Скрещиваются массивы индексов нейронов. Применяется одноточечный кроссинговер\n",
        "    @staticmethod\n",
        "    def crossover(parent1, parent2):\n",
        "        neurons_count = len(parent1.neurons)              # длина комбинации нейронов\n",
        "        crossover_point = random.randrange(neurons_count) # случайная точка для скрещивания комбинации\n",
        "        child1_neurons = parent1.neurons[:crossover_point] + parent2.neurons[crossover_point:]  # скрещивание комбинаций нейронов\n",
        "        child2_neurons = parent2.neurons[:crossover_point] + parent1.neurons[crossover_point:]  # скрещивание комбинаций нейронов\n",
        "        return Blueprint(child1_neurons, None), Blueprint(child2_neurons, None)"
      ],
      "metadata": {
        "id": "YxIGWyzDaydN"
      },
      "execution_count": null,
      "outputs": []
    },
    {
      "cell_type": "markdown",
      "source": [
        "#### Популяция комбинаций нейронов"
      ],
      "metadata": {
        "id": "yG9O5yDS958g"
      }
    },
    {
      "cell_type": "code",
      "source": [
        "# Класс BlueprintPopulation - реализует логику работы с популяцией комбинаций нейронов, предоставляя высокоуровневый интерфейс над массивом комбинаций нейронов.\n",
        "class BlueprintPopulation(object):\n",
        "    def __init__(self,\n",
        "                 population_size: int,\n",
        "                 blueprint_size: int):\n",
        "        self.population_size = population_size  # размер популяции (количество комбинаций в популяции)\n",
        "        self.blueprint_size = blueprint_size    # размер комбинации нейронов (количество нейронов в комбинации). Должен быть равен количеству нейронов в скрытом слое\n",
        "        self.neuron_population = None           # популяция нейронов\n",
        "        self.blueprints = []                    # массив комбинаций нейронов\n",
        "\n",
        "\n",
        "    # инициализация популяции комбинаций нейронов. Происходит создание комбинаций нейронов\n",
        "    def init(self,\n",
        "             neuron_population: NeuronPopulation):\n",
        "        self.neuron_population = neuron_population   # создание объекта популяции нейронов\n",
        "        for _ in range(self.population_size):\n",
        "            selected_neurons = self.select_neurons() # отбор случайных нейронов из популяции нейронов\n",
        "            self.blueprints.append(Blueprint(        # создание массива популяции комбинаций нейронов. Элементы массива объекты класса Blueprint\n",
        "                neurons=selected_neurons,            # массив индексов выбранных нейронов\n",
        "                neuron_population=self.neuron_population))  # популяция нейронов\n",
        "\n",
        "    # внутренний метод, возвращающий список индексов случайно выбранных нейронов из популяции нейронов. При этом индексы являются уникальными\n",
        "    def select_neurons(self) -> List[int]:\n",
        "        result = []\n",
        "        while True:                                  # формирование списка индексов\n",
        "            for _ in range(self.blueprint_size):     # формирование одной комбинации нейронов\n",
        "                result.append(random.randrange(len(self.neuron_population)))\n",
        "            if len(set(result)) == self.blueprint_size:\n",
        "                break\n",
        "            result.clear()\n",
        "        return result\n",
        "\n",
        "    # мутация всех комбинаций нейронов\n",
        "    def mutation(self):\n",
        "        for blueprint in self.blueprints:\n",
        "            blueprint.mutation()\n",
        "\n",
        "    # скрещивание верхней четверти лучших комбинаций нейронов. Для скрещивания вызывается метод crossover класса Blueprint. Потомки при этом заменяют худшие особи\n",
        "    def crossover(self):\n",
        "        self.blueprints.sort(key=lambda x: x.fitness)             # сортировка массива комбинаций нейронов по функции приспособленности\n",
        "        selected_blueprint_count = int(len(self.blueprints) / 4)  # выбираем из массива нейронов верхнюю четверть нейронов с лучшими значениями функции приспособленности\n",
        "        selected_blueprint_count -= selected_blueprint_count % 2  # оставляем четное количество нейронов в списке\n",
        "        for i in range(0, selected_blueprint_count, 2):\n",
        "            parent1 = self.blueprints[i]\n",
        "            parent2 = self.blueprints[i + 1]\n",
        "            child1, child2 = Blueprint.crossover(\n",
        "                parent1=parent1,\n",
        "                parent2=parent2)\n",
        "            child1.neuron_population = self.neuron_population\n",
        "            child2.neuron_population = self.neuron_population\n",
        "            selected1 = parent1 if random.randrange(2) == 0 else parent2  # после скрещивания остается только 1 случайный потомок\n",
        "            selected2 = child1 if random.randrange(2) == 0 else child2    # вместо второго потомка используется один из родителей\n",
        "            self.blueprints[-selected_blueprint_count + i] = selected1    # обновляем комбинации в списке\n",
        "            self.blueprints[-selected_blueprint_count + i + 1] = selected2 # обновляем комбинации в списке\n",
        "\n",
        "    # встроенный метод языка Python, позволяющий обращаться к данному объекту как к коллекции. При этом возвращается соответсвующий индексу нейрон\n",
        "    def __getitem__(self, key: int) -> Blueprint:\n",
        "        return self.blueprints[key]\n",
        "    # встроенный метод языка Python, позволяющий получить размер коллекции. При это возвращается размер массива нейронов\n",
        "    def __len__(self):\n",
        "        return len(self.blueprints)\n",
        "    # встроенный метод языка Python, позволяющий итерироваться по объекту. Итерация происходит по массиву комбинаций нейронов\n",
        "    def __iter__(self):\n",
        "        return iter(self.blueprints)"
      ],
      "metadata": {
        "id": "3q10VdtG9RYy"
      },
      "execution_count": null,
      "outputs": []
    },
    {
      "cell_type": "markdown",
      "source": [
        "#### Функции активации"
      ],
      "metadata": {
        "id": "kWptrtrDSafw"
      }
    },
    {
      "cell_type": "markdown",
      "source": [
        "Базовым классом для всех функций активации является класс AbstractActivationFunction, представляющий интерфейс для работы с функциями активации. В данном классе имеется метод forward, который принимает на вход numpy-массив (вектор), применяет к каждому элементу функцию активации и возвращает numpy-массив. Дочерние классы должны реализовать данный метод.\n",
        "Имеется реализация нескольких функций активации."
      ],
      "metadata": {
        "id": "o7Hj7LkKUXE_"
      }
    },
    {
      "cell_type": "code",
      "source": [
        "class AbstractActivationFunction(object):\n",
        "    def __init__(self):\n",
        "        pass\n",
        "\n",
        "    def forward(self, input_data: np.array) -> np.array:\n",
        "        raise NotImplementedError()\n",
        "\n",
        "\n",
        "class Sigmoid(AbstractActivationFunction):\n",
        "    def __init__(self):\n",
        "        pass\n",
        "\n",
        "    def forward(self, input_data: np.array) -> np.array:\n",
        "        return 1.0 / (1.0 + np.exp(-input_data))\n",
        "\n",
        "\n",
        "class ReLU(AbstractActivationFunction):\n",
        "    def __init__(self):\n",
        "        pass\n",
        "\n",
        "    def forward(self, input_data: np.array) -> np.array:\n",
        "        return np.maximum(0.0, input_data)\n",
        "\n",
        "\n",
        "class Tanh(AbstractActivationFunction):\n",
        "    def __init__(self):\n",
        "        pass\n",
        "\n",
        "    def forward(self, input_data: np.array) -> np.array:\n",
        "        return np.tanh(input_data)"
      ],
      "metadata": {
        "id": "khis_iPbShjY"
      },
      "execution_count": null,
      "outputs": []
    },
    {
      "cell_type": "markdown",
      "source": [
        "#### Класс Layer"
      ],
      "metadata": {
        "id": "c0mNQz2SVHkm"
      }
    },
    {
      "cell_type": "code",
      "source": [
        "# Класс Layer реализует логику работы со слоем нейронной сети\n",
        "class Layer(object):\n",
        "    def __init__(self,\n",
        "                 weights: np.array,\n",
        "                 activation: AbstractActivationFunction):\n",
        "        self.weights = weights          # вектор весов\n",
        "        self.activation = activation    # функция активации\n",
        "\n",
        "    def forward(self,                                 # прямой проход по слою. Вектор весов умножается на вектор-столбец входных данных, к каждому элементу полученного вектора-столбца применяется функция активации\n",
        "                input_data: np.array) -> np.array:    # вектор входных данных\n",
        "        return self.activation.forward(\n",
        "            input_data=np.dot(self.weights, input_data))"
      ],
      "metadata": {
        "id": "pKzbSHZgVMZ1"
      },
      "execution_count": null,
      "outputs": []
    },
    {
      "cell_type": "markdown",
      "source": [
        "#### Класс NeuralNetwork"
      ],
      "metadata": {
        "id": "vibPGIlOYgmS"
      }
    },
    {
      "cell_type": "code",
      "source": [
        "class NeuralNetwork(object):\n",
        "  # происходит инициализация весов нейронной сети и создание скрытого и выходного слоёв сети\n",
        "    def __init__(self,\n",
        "                 hidden_neurons: List[int],  # массив индексов нейронов, из которых будет построен скрытый слой\n",
        "                 inputs_count: int,          # количество входов нейронной сети\n",
        "                 outputs_count: int,         # количество выходов нейронной сети\n",
        "                 neuron_population: NeuronPopulation):  # популяция нейронов, из которой будет происходить выборка нейронов\n",
        "        self.fitness = 0.0      # приспособленность нейронной сети\n",
        "        self.input_weights = np.zeros((len(hidden_neurons), inputs_count)) # матрица входных весов скрытого слоя\n",
        "        output_weights = np.zeros((len(hidden_neurons), outputs_count))    # матрица выходных весов скрытого слоя (входных весов выходного слоя)\n",
        "        for i in range(len(hidden_neurons)):\n",
        "            self.input_weights[i] = neuron_population[hidden_neurons[i]].get_input_weights(inputs_count)\n",
        "            output_weights[i] = neuron_population[hidden_neurons[i]].get_output_weights(outputs_count)\n",
        "        self.output_weights = np.zeros((outputs_count, len(hidden_neurons)))\n",
        "        for i in range(outputs_count):\n",
        "            self.output_weights[i] = output_weights[:, i]\n",
        "        self.layers = []                      # список, содержащий слои нейронной сети (объекты класса Layer)\n",
        "        self.layers.append(Layer(             # создание скрытого слоя сети\n",
        "            weights=self.input_weights,\n",
        "            activation=Sigmoid()))\n",
        "        self.layers.append(Layer(             # создание выходного слоя сети\n",
        "            weights=self.output_weights,\n",
        "            activation=Sigmoid()))\n",
        "\n",
        "    # прямой проход по сети. Последовательно выполняется прямой проход по слоям сети с помощью метода forward класса Layer\n",
        "    def forward(self,\n",
        "                input_data: np.array) -> np.array: # вектор входных данных\n",
        "        output = input_data\n",
        "        for layer in self.layers:\n",
        "            output = layer.forward(output)\n",
        "        return output"
      ],
      "metadata": {
        "id": "3G0Tu98rYoLr"
      },
      "execution_count": null,
      "outputs": []
    },
    {
      "cell_type": "markdown",
      "source": [
        "#### Класс SANEAlgorithm"
      ],
      "metadata": {
        "id": "2n6nzHqdukSz"
      }
    },
    {
      "cell_type": "code",
      "source": [
        "import platform\n",
        "import os\n",
        "from copy import deepcopy"
      ],
      "metadata": {
        "id": "FKqiDOvEu47b"
      },
      "execution_count": null,
      "outputs": []
    },
    {
      "cell_type": "code",
      "source": [
        "def mse(y_true: np.array, y_pred: np.array) -> float:\n",
        "    return np.square(y_true - y_pred).mean()"
      ],
      "metadata": {
        "id": "tmlu1wwDvEei"
      },
      "execution_count": null,
      "outputs": []
    },
    {
      "cell_type": "code",
      "source": [
        "# Строка кода определяет переменную CRLF в зависимости от операционной системы.\n",
        "# Это позволяет корректно использовать символы новой строки в зависимости от платформы при выводе текста.\n",
        "CRLF = '\\r\\x1B[K' if platform.system() != 'Windows' else '\\r'"
      ],
      "metadata": {
        "id": "QbwQzsLgvre6"
      },
      "execution_count": null,
      "outputs": []
    },
    {
      "cell_type": "code",
      "source": [
        "# Класс SANEAlgorithm реализует логику работы с алгоритмом SANE\n",
        "class SANEAlgorithm(object):\n",
        "    def __init__(self,\n",
        "                 blueprints_population_size: int,   # размер популяции комбинации нейронов\n",
        "                 neuron_population_size: int,       # размер популяции нейронов\n",
        "                 hidden_layer_size: int,            # количество нейронов скрытого слоя\n",
        "                 connections_count: int):           # количество соединений для одного нейрона\n",
        "        self.neuron_population = NeuronPopulation(  # популяция нейронов\n",
        "            population_size=neuron_population_size,\n",
        "            connections_count=connections_count)\n",
        "        self.blueprint_population = BlueprintPopulation( # популяция комбинаций нейронов\n",
        "            population_size=blueprints_population_size,\n",
        "            blueprint_size=hidden_layer_size)\n",
        "        self.best_nn = None                        # лучшая нейронная сеть\n",
        "\n",
        "        self.hidden_layer_size = hidden_layer_size\n",
        "\n",
        "    # инициализация популяции нейронов и популяции комбинаций нейронов\n",
        "    def init(self,\n",
        "             min_value: float,\n",
        "             max_value: float):\n",
        "        self.neuron_population.init(  # инициализация популяции нейронов\n",
        "            min_value=min_value,\n",
        "            max_value=max_value)\n",
        "        self.blueprint_population.init(  # инициализация популяции комбинаций нейронов\n",
        "            neuron_population=self.neuron_population)\n",
        "\n",
        "    # тренировка нейронных сетей\n",
        "    def train(self,\n",
        "              generations_count: int,  # количество поколений\n",
        "              x_train: np.array,       # массив входных данных\n",
        "              y_train: np.array):      # массив выходных данных\n",
        "        if x_train.shape[0] != y_train.shape[0]:\n",
        "            raise Exception()\n",
        "        result = []\n",
        "        for generation in range(generations_count):\n",
        "            inputs_count = x_train[0].size\n",
        "            outputs_count = y_train[0].size\n",
        "\n",
        "            neural_networks = self.create_neural_networks(   # создание нейронных сетей\n",
        "                inputs_count=inputs_count,                   # количество входов нейронной сети\n",
        "                outputs_count=outputs_count)                 # количество выходов нейронной сети\n",
        "            self.forward_train(                              # пропускаем весь трейновый датасет через созданную НС\n",
        "                neural_networks=neural_networks,\n",
        "                x_train=x_train,\n",
        "                y_train=y_train)\n",
        "\n",
        "            neural_networks.sort(key=lambda x: x.fitness)    # сортировка НС по приспособленности\n",
        "            best_nn = neural_networks[0]                     # выбираем лучшую нейронную сеть\n",
        "\n",
        "            if self.best_nn is None:\n",
        "                self.best_nn = deepcopy(best_nn)   # используется функция deepcopy, чтобы создать независимую копию лучшей нейронной сети, а не просто ссылку на оригинальный объект.\n",
        "            if best_nn.fitness < self.best_nn.fitness:\n",
        "                self.best_nn = deepcopy(best_nn)\n",
        "\n",
        "            result.append(self.best_nn.fitness)\n",
        "            self.update_neuron_fitness()                     # обновляем фунцию приспособленности нейрона\n",
        "            self.neuron_population.crossover()               # скрещивание популяции нейронов\n",
        "            self.neuron_population.mutation()                # мутация популяции нейронов\n",
        "            self.blueprint_population.crossover()            # скрещивание популяции комбинации нейронов\n",
        "            self.blueprint_population.mutation()             # мутация популяции комбинации нейронов\n",
        "            print('{}{}/{} best fitness = {}, current fitness = {}'\n",
        "                  .format(CRLF, generation, generations_count, self.best_nn.fitness, best_nn.fitness), end='')\n",
        "        print(os.linesep)\n",
        "        return result\n",
        "\n",
        "    # тестирование сети. Возвращается массив среднеквадратичесных ошибок в соотвествии с записями во входном наборе данных\n",
        "    def test(self,\n",
        "             x_test: np.array,   # массив входных данных\n",
        "             y_test: np.array):  # массиы выходных данных\n",
        "        if x_test.shape[0] != y_test.shape[0]:\n",
        "            raise Exception()\n",
        "        dataset_size = x_test.shape[0]\n",
        "        result = []\n",
        "        for i in range(dataset_size):\n",
        "            error = self.forward(x=x_test[i], y=y_test[i])\n",
        "            result.append(error)\n",
        "        return result\n",
        "\n",
        "    # внутренний метод, предназначенный для прохода по лучшей нейронной сети с одним набором данных. Возвращает среднеквадратическую ошибку\n",
        "    def forward(self, x: np.array, y: np.array):\n",
        "        output = self.best_nn.forward(x)\n",
        "        # print(output)\n",
        "        return (mse(y, output),output)     # УБРАТЬ ВЫВОД output при показе MSE\n",
        "\n",
        "    # внутренний метод предназначенный для прохода всех комбинаций нейронных сетей по всем входным данным.\n",
        "    # по результатам прохода берется среднее значение среднеквадратичных ошибок, полученных в результате прохода всех данных.\n",
        "    # полученное значение является приспособленностью для нейронной сети и для комбинации нейронной сети\n",
        "    def forward_train(self,\n",
        "                      neural_networks: List[NeuralNetwork],  # массив нейронных сетей\n",
        "                      x_train: np.array,                     # массив входных данных\n",
        "                      y_train: np.array):                    # массив выходных данных\n",
        "        dataset_size = x_train.shape[0]\n",
        "        for i in range(len(neural_networks)):    # для каждой комбинации НС\n",
        "            errors = []\n",
        "            for j in range(dataset_size):\n",
        "                output = neural_networks[i].forward(input_data=x_train[j]) # прямой проход по сети. Последовательно выполняется прямой проход по слоям сети с помощью метода forward класса Layer\n",
        "                error = mse(y_true=y_train[j], y_pred=output)  # считаем ошибку\n",
        "                errors.append(error)  # добавляем её в список всех ошибок\n",
        "            avg_error = np.array(errors).mean()  # вычисляем среднюю ошибку нейронной сети и популяции комбинаций нейронных сетей\n",
        "            neural_networks[i].fitness = avg_error # средняя ошибка нейронной сети\n",
        "            self.blueprint_population[i].fitness = avg_error # средняя ошибка популяции комбинаций нейронных сетей\n",
        "\n",
        "    # внутренний метод,создающий массив нейронных сетей из комбинаций нейронных сетей\n",
        "    def create_neural_networks(self,\n",
        "                               inputs_count: int,                           # количество входов нейронной сети\n",
        "                               outputs_count: int) -> List[NeuralNetwork]:  # количество выходов нейронной сети\n",
        "        result = []\n",
        "        for population in self.blueprint_population:  # итерация по комбинациям нейронов в популяции\n",
        "            hidden_neurons = population.neurons       # инициализация скрытых нейронов НС\n",
        "            result.append(NeuralNetwork(              # создание массива НС. Каждый элемент массива - объект класса NeuralNetwork\n",
        "                hidden_neurons=hidden_neurons,\n",
        "                inputs_count=inputs_count,\n",
        "                outputs_count=outputs_count,\n",
        "                neuron_population=self.neuron_population))\n",
        "        return result\n",
        "\n",
        "    # внутренний метод, обновляющий приспособленность нейронов, являющуюся средним значением приспособленности 5 лучших нейронных сетей, включающих данный нейрон\n",
        "    def update_neuron_fitness(self):\n",
        "        for neuron in self.neuron_population:\n",
        "            fitness_list = []\n",
        "            for population in self.blueprint_population:\n",
        "                if neuron in population.neurons:\n",
        "                    fitness_list.append(population.fitness)\n",
        "                if len(fitness_list) == 5:\n",
        "                    break\n",
        "            neuron.fitness = np.array(fitness_list).mean() if len(fitness_list) > 0 else 0.0\n",
        "\n",
        "    def plot_network(self,\n",
        "                    #  best_nn: NeuralNetwork,\n",
        "                     x_train: np.array,\n",
        "                     y_train: np.array):\n",
        "      # Создание пустого графа\n",
        "      G = nx.Graph()\n",
        "      # Узлы входного слоя\n",
        "      input_nodes = ['Input {}'.format(i+1) for i in range(len(x_train[0]))]\n",
        "      # Узлы скрытого слоя\n",
        "      hidden_nodes = ['Hidden {}'.format(i+1) for i in range(self.hidden_layer_size)]\n",
        "      # Узлы выходного слоя\n",
        "      output_nodes = ['Output {}'.format(i+1) for i in range(len(y_train[0]))]\n",
        "\n",
        "      # Добавление узлов в граф\n",
        "      G.add_nodes_from(input_nodes)\n",
        "      G.add_nodes_from(hidden_nodes)\n",
        "      G.add_nodes_from(output_nodes)\n",
        "\n",
        "      # Добавление ребер (связей) между узлами\n",
        "      # G.add_edges_from([(i, j) for i in input_nodes for j in hidden_nodes])\n",
        "      # G.add_edges_from([(i, j) for i in hidden_nodes for j in output_nodes])\n",
        "\n",
        "      input_to_hidden_edges = []\n",
        "      for i, hidd_node in enumerate(self.best_nn.input_weights):\n",
        "        for j, weight in enumerate(self.best_nn.input_weights[i]):\n",
        "          if weight == 0:\n",
        "            continue\n",
        "          else:\n",
        "            input_to_hidden_edges.append(('Input {}'.format(j+1),'Hidden {}'.format(i+1)))\n",
        "\n",
        "      hidden_output_edges = []\n",
        "      for i, out_node in enumerate(self.best_nn.output_weights):\n",
        "        for j, weight in enumerate(self.best_nn.output_weights[i]):\n",
        "          if weight == 0:\n",
        "            continue\n",
        "          else:\n",
        "            hidden_output_edges.append(('Hidden {}'.format(j+1),'Output {}'.format(i+1)))\n",
        "\n",
        "      G.add_edges_from(input_to_hidden_edges)\n",
        "      G.add_edges_from(hidden_output_edges)\n",
        "\n",
        "      # Определение позиции узлов по столбцам\n",
        "      pos = {}\n",
        "      for i, node in enumerate(input_nodes):\n",
        "        pos[node] = (1, i+0.5)\n",
        "      for i, node in enumerate(hidden_nodes):\n",
        "        pos[node] = (2, i)\n",
        "      for i, node in enumerate(output_nodes):\n",
        "        pos[node] = (3, i + 4)\n",
        "\n",
        "      # Рисование графа\n",
        "      nx.draw(G, pos, with_labels=True, node_color='lightblue', edge_color='gray', node_size=1000, font_size=8, arrows=True)\n",
        "\n",
        "      # Отображение графа\n",
        "      plt.show()"
      ],
      "metadata": {
        "id": "Urv1ydDyvmLB"
      },
      "execution_count": null,
      "outputs": []
    },
    {
      "cell_type": "markdown",
      "source": [
        "#### Загрузка датасетов"
      ],
      "metadata": {
        "id": "oeS1wdhCiAfm"
      }
    },
    {
      "cell_type": "code",
      "source": [
        "def transform_data(dataset, inputs, outputs):\n",
        "    input_data = np.zeros((len(dataset), inputs))\n",
        "    output_data = np.zeros((len(dataset), outputs))\n",
        "    for i in range(len(dataset)):\n",
        "        data = [float(value) for value in dataset[i].split()]\n",
        "        input_data[i] = data[:inputs]\n",
        "        output_data[i] = data[inputs:]\n",
        "    return input_data, output_data\n",
        "\n",
        "\n",
        "def load(path):\n",
        "    with open(path, 'r') as f:\n",
        "        lines = f.readlines()\n",
        "\n",
        "        bool_in = int(lines[0].split('=')[1])\n",
        "        real_in = int(lines[1].split('=')[1])\n",
        "        bool_out = int(lines[2].split('=')[1])\n",
        "        real_out = int(lines[3].split('=')[1])\n",
        "        training_examples_count = int(lines[4].split('=')[1])\n",
        "        validation_examples_count = int(lines[5].split('=')[1])\n",
        "        test_examples_count = int(lines[6].split('=')[1])\n",
        "\n",
        "        inputs = bool_in + real_in\n",
        "        outputs = bool_out + real_out\n",
        "\n",
        "        current_line = 7\n",
        "        train_x, train_y = transform_data(lines[current_line:current_line + training_examples_count], inputs, outputs)\n",
        "        current_line += training_examples_count\n",
        "        validation_x, validation_y = transform_data(lines[current_line:current_line + validation_examples_count], inputs, outputs)\n",
        "        current_line += validation_examples_count\n",
        "        test_x, test_y = transform_data(lines[current_line:current_line + test_examples_count], inputs, outputs)\n",
        "\n",
        "        return train_x, train_y, validation_x, validation_y, test_x, test_y\n",
        "\n",
        "\n",
        "class AbstractDataset(object):\n",
        "    def __init__(self, path):\n",
        "        self.train_x, self.train_y, self.validation_x, self.validation_y, self.test_x, self.test_y = load(path)\n",
        "\n",
        "    def get_train_data(self):\n",
        "        return self.train_x, self.train_y\n",
        "\n",
        "    def get_validation_data(self):\n",
        "        return self.validation_x, self.validation_y\n",
        "\n",
        "    def get_test_data(self):\n",
        "        return self.test_x, self.test_y\n",
        "\n",
        "\n",
        "class Cancer1Dataset(AbstractDataset):\n",
        "    def __init__(self):\n",
        "        super().__init__('/content/drive/MyDrive/Data/Файлы/cancer/cancer1.dt')\n",
        "\n",
        "\n",
        "class Cancer2Dataset(AbstractDataset):\n",
        "    def __init__(self):\n",
        "        super().__init__(os.path.dirname(__file__) + '/data/cancer2.dt')\n",
        "\n",
        "\n",
        "class Cancer3Dataset(AbstractDataset):\n",
        "    def __init__(self):\n",
        "        super().__init__(os.path.dirname(__file__) + '/data/cancer3.dt')\n",
        "\n",
        "\n",
        "class Diabetes1Dataset(AbstractDataset):\n",
        "    def __init__(self):\n",
        "        super().__init__(os.path.dirname(__file__) + '/data/diabetes1.dt')\n",
        "\n",
        "\n",
        "class Diabetes2Dataset(AbstractDataset):\n",
        "    def __init__(self):\n",
        "        super().__init__(os.path.dirname(__file__) + '/data/diabetes2.dt')\n",
        "\n",
        "\n",
        "class Diabetes3Dataset(AbstractDataset):\n",
        "    def __init__(self):\n",
        "        super().__init__(os.path.dirname(__file__) + '/data/diabetes3.dt')\n",
        "\n",
        "\n",
        "class Glass1Dataset(AbstractDataset):\n",
        "    def __init__(self):\n",
        "        super().__init__(os.path.dirname(__file__) + '/data/glass1.dt')\n",
        "\n",
        "\n",
        "class Glass2Dataset(AbstractDataset):\n",
        "    def __init__(self):\n",
        "        super().__init__(os.path.dirname(__file__) + '/data/glass2.dt')\n",
        "\n",
        "\n",
        "class Glass3Dataset(AbstractDataset):\n",
        "    def __init__(self):\n",
        "        super().__init__(os.path.dirname(__file__) + '/data/glass3.dt')\n",
        "\n",
        "\n",
        "class Card1Dataset(AbstractDataset):\n",
        "    def __init__(self):\n",
        "        super().__init__(os.path.dirname(__file__) + '/data/card1.dt')\n",
        "\n",
        "\n",
        "class Card2Dataset(AbstractDataset):\n",
        "    def __init__(self):\n",
        "        super().__init__(os.path.dirname(__file__) + '/data/card2.dt')\n",
        "\n",
        "\n",
        "class Card3Dataset(AbstractDataset):\n",
        "    def __init__(self):\n",
        "        super().__init__(os.path.dirname(__file__) + '/data/card3.dt')\n",
        "\n",
        "\n",
        "class Flare1Dataset(AbstractDataset):\n",
        "    def __init__(self):\n",
        "        super().__init__(os.path.dirname(__file__) + '/data/flare1.dt')\n",
        "\n",
        "\n",
        "class Flare2Dataset(AbstractDataset):\n",
        "    def __init__(self):\n",
        "        super().__init__(os.path.dirname(__file__) + '/data/flare2.dt')\n",
        "\n",
        "\n",
        "class Flare3Dataset(AbstractDataset):\n",
        "    def __init__(self):\n",
        "        super().__init__(os.path.dirname(__file__) + '/data/flare3.dt')\n",
        "\n",
        "\n",
        "class Gene1Dataset(AbstractDataset):\n",
        "    def __init__(self):\n",
        "        super().__init__(os.path.dirname(__file__) + '/data/gene1.dt')\n",
        "\n",
        "\n",
        "class Gene2Dataset(AbstractDataset):\n",
        "    def __init__(self):\n",
        "        super().__init__(os.path.dirname(__file__) + '/data/gene2.dt')\n",
        "\n",
        "\n",
        "class Gene3Dataset(AbstractDataset):\n",
        "    def __init__(self):\n",
        "        super().__init__(os.path.dirname(__file__) + '/data/gene3.dt')\n",
        "\n",
        "\n",
        "class Heart1Dataset(AbstractDataset):\n",
        "    def __init__(self):\n",
        "        super().__init__(os.path.dirname(__file__) + '/data/heart1.dt')\n",
        "\n",
        "\n",
        "class Heart2Dataset(AbstractDataset):\n",
        "    def __init__(self):\n",
        "        super().__init__(os.path.dirname(__file__) + '/data/heart2.dt')\n",
        "\n",
        "\n",
        "class Heart3Dataset(AbstractDataset):\n",
        "    def __init__(self):\n",
        "        super().__init__(os.path.dirname(__file__) + '/data/heart3.dt')\n",
        "\n",
        "\n",
        "class Horse1Dataset(AbstractDataset):\n",
        "    def __init__(self):\n",
        "        super().__init__(os.path.dirname(__file__) + '/data/horse1.dt')\n",
        "\n",
        "\n",
        "class Horse2Dataset(AbstractDataset):\n",
        "    def __init__(self):\n",
        "        super().__init__(os.path.dirname(__file__) + '/data/horse2.dt')\n",
        "\n",
        "\n",
        "class Horse3Dataset(AbstractDataset):\n",
        "    def __init__(self):\n",
        "        super().__init__(os.path.dirname(__file__) + '/data/horse3.dt')\n",
        "\n",
        "\n",
        "class Mushroom1Dataset(AbstractDataset):\n",
        "    def __init__(self):\n",
        "        super().__init__(os.path.dirname(__file__) + '/data/mushroom1.dt')\n",
        "\n",
        "\n",
        "class Mushroom2Dataset(AbstractDataset):\n",
        "    def __init__(self):\n",
        "        super().__init__(os.path.dirname(__file__) + '/data/mushroom2.dt')\n",
        "\n",
        "\n",
        "class Mushroom3Dataset(AbstractDataset):\n",
        "    def __init__(self):\n",
        "        super().__init__(os.path.dirname(__file__) + '/data/mushroom3.dt')\n",
        "\n",
        "\n",
        "class Soybean1Dataset(AbstractDataset):\n",
        "    def __init__(self):\n",
        "        super().__init__(os.path.dirname(__file__) + '/data/soybean1.dt')\n",
        "\n",
        "\n",
        "class Soybean2Dataset(AbstractDataset):\n",
        "    def __init__(self):\n",
        "        super().__init__(os.path.dirname(__file__) + '/data/soybean2.dt')\n",
        "\n",
        "\n",
        "class Soybean3Dataset(AbstractDataset):\n",
        "    def __init__(self):\n",
        "        super().__init__(os.path.dirname(__file__) + '/data/soybean3.dt')\n",
        "\n",
        "\n",
        "class Thyroid1Dataset(AbstractDataset):\n",
        "    def __init__(self):\n",
        "        super().__init__(os.path.dirname(__file__) + '/data/thyroid1.dt')\n",
        "\n",
        "\n",
        "class Thyroid2Dataset(AbstractDataset):\n",
        "    def __init__(self):\n",
        "        super().__init__(os.path.dirname(__file__) + '/data/thyroid2.dt')\n",
        "\n",
        "\n",
        "class Thyroid3Dataset(AbstractDataset):\n",
        "    def __init__(self):\n",
        "        super().__init__(os.path.dirname(__file__) + '/data/thyroid3.dt')"
      ],
      "metadata": {
        "id": "anyN8-m5iD84"
      },
      "execution_count": null,
      "outputs": []
    },
    {
      "cell_type": "markdown",
      "source": [
        "#### Тестирование"
      ],
      "metadata": {
        "id": "Y7wkBByjiOGD"
      }
    },
    {
      "cell_type": "code",
      "source": [
        "import matplotlib.pyplot as plt\n",
        "import time\n",
        "import networkx as nx"
      ],
      "metadata": {
        "id": "JgI30DehiRAM"
      },
      "execution_count": null,
      "outputs": []
    },
    {
      "cell_type": "code",
      "source": [
        "random.seed(1)"
      ],
      "metadata": {
        "id": "aLSOqDyOiiNS"
      },
      "execution_count": null,
      "outputs": []
    },
    {
      "cell_type": "markdown",
      "source": [
        "Объявляем параметры алгоритма (количество комбинаций, количество нейронов, размер скрытого слоя, количество соединений на нейрон)"
      ],
      "metadata": {
        "id": "i8AhS5yWipXp"
      }
    },
    {
      "cell_type": "code",
      "source": [
        "algorithm_params = [    # полносвязная сеть для датасета cancer1\n",
        "    (10, 500, 10, 11),  # (размер популяции комбинаций нейронов, размер популяции нейронов, количество нейронов на скрытом слое, количество связей для одного нейрона)\n",
        "    (50, 1000, 9, 8),\n",
        "    # (500, 2000, 20, 8), # большие популяции, расчёт займёт около часа\n",
        "]"
      ],
      "metadata": {
        "id": "UT-kUrgcilHr"
      },
      "execution_count": null,
      "outputs": []
    },
    {
      "cell_type": "markdown",
      "source": [
        "Создаём несколько алгоритмов"
      ],
      "metadata": {
        "id": "IXTX3LWiitvI"
      }
    },
    {
      "cell_type": "code",
      "source": [
        "algorithms = []\n",
        "for params in algorithm_params:\n",
        "    algorithms.append(SANEAlgorithm(\n",
        "        blueprints_population_size=params[0],\n",
        "        neuron_population_size=params[1],\n",
        "        hidden_layer_size=params[2],\n",
        "        connections_count=params[3]))"
      ],
      "metadata": {
        "id": "QmkEuTz2iqPO"
      },
      "execution_count": null,
      "outputs": []
    },
    {
      "cell_type": "markdown",
      "source": [
        "Инициализируем алгоритмы"
      ],
      "metadata": {
        "id": "T7gzjH6Xi-_y"
      }
    },
    {
      "cell_type": "code",
      "source": [
        "for algorithm in algorithms:\n",
        "    algorithm.init(\n",
        "        min_value=-1.0,\n",
        "        max_value=1.0)"
      ],
      "metadata": {
        "id": "KVAlDKini8ea"
      },
      "execution_count": null,
      "outputs": []
    },
    {
      "cell_type": "markdown",
      "source": [
        "Заргужаем тестовые данные"
      ],
      "metadata": {
        "id": "-l7KbBK9jBrW"
      }
    },
    {
      "cell_type": "code",
      "source": [
        "from google.colab import drive\n",
        "drive.mount('/content/drive')"
      ],
      "metadata": {
        "colab": {
          "base_uri": "https://localhost:8080/"
        },
        "id": "y4v68eJ-CaH-",
        "outputId": "d4c477de-1761-4f1d-f429-be599796507c"
      },
      "execution_count": null,
      "outputs": [
        {
          "output_type": "stream",
          "name": "stdout",
          "text": [
            "Mounted at /content/drive\n"
          ]
        }
      ]
    },
    {
      "cell_type": "markdown",
      "source": [
        "Существует 9 входных атрибутов, все дискретные по шкале от 1 до 10 (целое число) и 1 двоичный выходной атрибут (2 = доброкачественный, 4 = злокачественный). Эта кодировка используется напрямую, за исключением того, что значения масштабируются в диапазоне 0...1 и что выходные данные представлены двумя единицами измерения. Для атрибута 6 пропущено 16 значений; они закодированы как 0,3, поскольку среднее значение этого атрибута составляет примерно 3,5."
      ],
      "metadata": {
        "id": "IPsVuIAYaVvS"
      }
    },
    {
      "cell_type": "code",
      "source": [
        "cancer1_dataset = Cancer1Dataset()\n",
        "x_train, y_train = cancer1_dataset.get_train_data()"
      ],
      "metadata": {
        "id": "Zr1-YQ4XjDl5"
      },
      "execution_count": null,
      "outputs": []
    },
    {
      "cell_type": "code",
      "source": [
        "x_train"
      ],
      "metadata": {
        "colab": {
          "base_uri": "https://localhost:8080/"
        },
        "id": "U4Ir-A8dA3Pb",
        "outputId": "edd3b3a2-459c-44ba-e232-2a65d21e46c6"
      },
      "execution_count": null,
      "outputs": [
        {
          "output_type": "execute_result",
          "data": {
            "text/plain": [
              "array([[0.2, 0.1, 0.1, ..., 0.2, 0.1, 0.1],\n",
              "       [0.2, 0.1, 0.1, ..., 0.3, 0.1, 0.1],\n",
              "       [0.5, 0.1, 0.1, ..., 0.2, 0.1, 0.1],\n",
              "       ...,\n",
              "       [0.4, 0.1, 0.1, ..., 0.3, 0.1, 0.1],\n",
              "       [0.4, 0.1, 0.1, ..., 0.1, 0.1, 0.1],\n",
              "       [0.8, 0.2, 0.4, ..., 0.5, 0.4, 0.4]])"
            ]
          },
          "metadata": {},
          "execution_count": 30
        }
      ]
    },
    {
      "cell_type": "code",
      "source": [
        "y_train[0]"
      ],
      "metadata": {
        "colab": {
          "base_uri": "https://localhost:8080/"
        },
        "id": "zFz-SayG0aSM",
        "outputId": "9a95dfe1-bbfd-49bf-ae6a-106c4fa599ed"
      },
      "execution_count": null,
      "outputs": [
        {
          "output_type": "execute_result",
          "data": {
            "text/plain": [
              "array([1., 0.])"
            ]
          },
          "metadata": {},
          "execution_count": 31
        }
      ]
    },
    {
      "cell_type": "code",
      "source": [
        "x_train.shape"
      ],
      "metadata": {
        "colab": {
          "base_uri": "https://localhost:8080/"
        },
        "id": "E3y1lDrm_W5f",
        "outputId": "c0e95b7d-4b36-4028-a283-2b37a58fef1f"
      },
      "execution_count": null,
      "outputs": [
        {
          "output_type": "execute_result",
          "data": {
            "text/plain": [
              "(350, 9)"
            ]
          },
          "metadata": {},
          "execution_count": 32
        }
      ]
    },
    {
      "cell_type": "code",
      "source": [
        "y_train.shape"
      ],
      "metadata": {
        "colab": {
          "base_uri": "https://localhost:8080/"
        },
        "id": "ELagkAis_Yug",
        "outputId": "97359bf1-f3c2-40e4-9cca-df9cc8748e8a"
      },
      "execution_count": null,
      "outputs": [
        {
          "output_type": "execute_result",
          "data": {
            "text/plain": [
              "(350, 2)"
            ]
          },
          "metadata": {},
          "execution_count": 33
        }
      ]
    },
    {
      "cell_type": "code",
      "source": [
        "x_train[0].size"
      ],
      "metadata": {
        "colab": {
          "base_uri": "https://localhost:8080/"
        },
        "id": "JsU_Wya_ZrE-",
        "outputId": "114dc506-37bd-4c3f-89b3-ebd0dedba1ba"
      },
      "execution_count": null,
      "outputs": [
        {
          "output_type": "execute_result",
          "data": {
            "text/plain": [
              "9"
            ]
          },
          "metadata": {},
          "execution_count": 34
        }
      ]
    },
    {
      "cell_type": "code",
      "source": [
        "y_train[0].size"
      ],
      "metadata": {
        "colab": {
          "base_uri": "https://localhost:8080/"
        },
        "id": "LD2jmc8rZurl",
        "outputId": "dfbe7259-3a7a-44bc-ce9d-4ed41b7432ab"
      },
      "execution_count": null,
      "outputs": [
        {
          "output_type": "execute_result",
          "data": {
            "text/plain": [
              "2"
            ]
          },
          "metadata": {},
          "execution_count": 35
        }
      ]
    },
    {
      "cell_type": "markdown",
      "source": [
        "Запускаем алгоритмы"
      ],
      "metadata": {
        "id": "9a64N5myjV7P"
      }
    },
    {
      "cell_type": "code",
      "source": [
        "results = []\n",
        "for algorithm in algorithms:\n",
        "    start_time = time.time()\n",
        "    result = algorithm.train(\n",
        "        generations_count=1000,   # 2000 поколений\n",
        "        x_train=x_train,\n",
        "        y_train=y_train)\n",
        "    results.append(result)\n",
        "    print(\"%s seconds\" % (time.time() - start_time))"
      ],
      "metadata": {
        "colab": {
          "base_uri": "https://localhost:8080/"
        },
        "id": "l9bojKDyjXvu",
        "outputId": "c5687666-7a70-4a49-8df5-fa4134b8d005"
      },
      "execution_count": null,
      "outputs": [
        {
          "output_type": "stream",
          "name": "stdout",
          "text": [
            "\u001b[K999/1000 best fitness = 0.19204029483243573, current fitness = 0.21957070789055413\n",
            "\n",
            "112.6864709854126 seconds\n",
            "\u001b[K92/1000 best fitness = 0.18974189059517918, current fitness = 0.21461988280288144"
          ]
        }
      ]
    },
    {
      "cell_type": "code",
      "source": [
        "algorithms[0].plot_network(x_train, y_train)"
      ],
      "metadata": {
        "id": "kBmi8WxQV_YA",
        "colab": {
          "base_uri": "https://localhost:8080/",
          "height": 516
        },
        "outputId": "76eb38fb-a85c-453f-c818-604bd5a9e1a8"
      },
      "execution_count": null,
      "outputs": [
        {
          "output_type": "display_data",
          "data": {
            "text/plain": [
              "<Figure size 640x480 with 1 Axes>"
            ],
            "image/png": "[encoded data removed]"
          },
          "metadata": {}
        }
      ]
    },
    {
      "cell_type": "code",
      "source": [
        "algorithms[1].plot_network(x_train, y_train)"
      ],
      "metadata": {
        "colab": {
          "base_uri": "https://localhost:8080/",
          "height": 516
        },
        "id": "ivSVoc-6Wma5",
        "outputId": "078a3eb0-c625-40c7-93be-00c4a69a0365"
      },
      "execution_count": null,
      "outputs": [
        {
          "output_type": "display_data",
          "data": {
            "text/plain": [
              "<Figure size 640x480 with 1 Axes>"
            ],
            "image/png": "[encoded data removed]"
          },
          "metadata": {}
        }
      ]
    },
    {
      "cell_type": "code",
      "source": [
        "algorithms[0].forward(x_train[0],y_train[0])"
      ],
      "metadata": {
        "colab": {
          "base_uri": "https://localhost:8080/"
        },
        "id": "IPG3Q7ILnrhS",
        "outputId": "4c694557-240a-43e5-efee-e2f669ea93e9"
      },
      "execution_count": null,
      "outputs": [
        {
          "output_type": "execute_result",
          "data": {
            "text/plain": [
              "(0.08803985472274763, array([0.67617425, 0.26686437]))"
            ]
          },
          "metadata": {},
          "execution_count": 41
        }
      ]
    },
    {
      "cell_type": "code",
      "source": [
        "print(algorithms[0].best_nn.input_weights)"
      ],
      "metadata": {
        "colab": {
          "base_uri": "https://localhost:8080/"
        },
        "id": "W4yN7KGHIGNG",
        "outputId": "08573007-023e-42c5-a49a-cd4a074715f8"
      },
      "execution_count": null,
      "outputs": [
        {
          "output_type": "stream",
          "name": "stdout",
          "text": [
            "[[ 0.72559132 -0.14230733  0.          0.          0.         -0.12461118\n",
            "   0.76089909  0.18843802  1.04776854]\n",
            " [ 0.          0.09966182  0.          0.         -0.97987215 -0.9116815\n",
            "   0.43048571  0.          0.        ]\n",
            " [ 0.79755753 -0.40990338  0.          0.          0.          0.3024904\n",
            "   0.          0.          0.        ]\n",
            " [-1.04286625  0.          0.          0.77938818  0.         -0.48737885\n",
            "   0.          0.         -0.56954879]\n",
            " [-0.46014122  0.         -0.92766907  0.          0.          0.\n",
            "  -0.05670542  0.          0.90889732]\n",
            " [ 0.         -0.16506259 -0.17029539 -1.48101727  0.88687544 -0.29157303\n",
            "   0.          0.          0.        ]\n",
            " [ 0.          0.          0.34642899  0.          0.          0.\n",
            "   0.65850585  0.          0.        ]\n",
            " [-0.31505821  0.          0.          0.          0.32152435  0.\n",
            "   0.          0.          0.41409661]\n",
            " [ 0.          0.         -0.60767387  0.98384721  0.26388471 -0.79982685\n",
            "  -0.11197524  0.          0.47863676]\n",
            " [-0.83713863 -0.58846235  0.09324556  0.35335864  0.          0.\n",
            "   0.          0.          0.53298517]]\n"
          ]
        }
      ]
    },
    {
      "cell_type": "code",
      "source": [
        "print(algorithms[0].best_nn.output_weights)"
      ],
      "metadata": {
        "colab": {
          "base_uri": "https://localhost:8080/"
        },
        "id": "yqfAwsZXS3k4",
        "outputId": "f9a2889f-76c6-4dd2-904a-8602f53054fa"
      },
      "execution_count": null,
      "outputs": [
        {
          "output_type": "stream",
          "name": "stdout",
          "text": [
            "[[ 0.          0.30283269 -0.21036853 -0.18865833  0.54111463  0.90714474\n",
            "   0.1270361  -1.1960805   0.45627721  0.86104811]\n",
            " [ 0.61825358 -0.14801932 -0.45331467  0.34580786 -0.86830996 -0.77566145\n",
            "   0.02289957  0.69552859 -0.74438155 -0.89330357]]\n"
          ]
        }
      ]
    },
    {
      "cell_type": "markdown",
      "source": [
        "Выводим изменение среднеквадратичной ошибки (приспособленности) лучшей нейронной сети в процессе эволюции"
      ],
      "metadata": {
        "id": "2RRE-3Ovjcq8"
      }
    },
    {
      "cell_type": "code",
      "source": [
        "legend = []\n",
        "for i in range(len(results)):\n",
        "    plt.plot(results[i])\n",
        "    legend.append(\"Params \" + str(i+1) + \" MSE\")\n",
        "plt.legend(legend)\n",
        "plt.show()"
      ],
      "metadata": {
        "colab": {
          "base_uri": "https://localhost:8080/",
          "height": 434
        },
        "id": "XS9WfJ6bjdFs",
        "outputId": "22cea047-0c8f-40da-bc15-1a27e27226e4"
      },
      "execution_count": null,
      "outputs": [
        {
          "output_type": "display_data",
          "data": {
            "text/plain": [
              "<Figure size 640x480 with 1 Axes>"
            ],
            "image/png": "[encoded data removed]"
          },
          "metadata": {}
        }
      ]
    },
    {
      "cell_type": "markdown",
      "source": [
        "Загружаем тестовые данные"
      ],
      "metadata": {
        "id": "8N5RZ2D7jhKv"
      }
    },
    {
      "cell_type": "code",
      "source": [
        "x_test, y_test = cancer1_dataset.get_test_data()"
      ],
      "metadata": {
        "id": "OrbJHsTQjjEl"
      },
      "execution_count": null,
      "outputs": []
    },
    {
      "cell_type": "code",
      "source": [
        "y_test[:5]"
      ],
      "metadata": {
        "colab": {
          "base_uri": "https://localhost:8080/"
        },
        "id": "1pWdSjH9a6R0",
        "outputId": "b2b95c5b-c6e3-42c0-d320-1c5ac14f0296"
      },
      "execution_count": null,
      "outputs": [
        {
          "output_type": "execute_result",
          "data": {
            "text/plain": [
              "array([[1., 0.],\n",
              "       [1., 0.],\n",
              "       [1., 0.],\n",
              "       [1., 0.],\n",
              "       [0., 1.]])"
            ]
          },
          "metadata": {},
          "execution_count": 46
        }
      ]
    },
    {
      "cell_type": "markdown",
      "source": [
        "Пропускаем тестовые данные через лучшие нейросети"
      ],
      "metadata": {
        "id": "OJ6qvEQCjlXC"
      }
    },
    {
      "cell_type": "code",
      "source": [
        "results = []\n",
        "for algorithm in algorithms:\n",
        "    result = algorithm.test(\n",
        "        x_test=x_test,\n",
        "        y_test=y_test)\n",
        "    results.append(result)"
      ],
      "metadata": {
        "id": "hhUmh-Kojl_o"
      },
      "execution_count": null,
      "outputs": []
    },
    {
      "cell_type": "markdown",
      "source": [
        "Выводим среднеквадратичную ошибку для каждой тестовой выборки"
      ],
      "metadata": {
        "id": "4ZO8kc1xjnoG"
      }
    },
    {
      "cell_type": "code",
      "source": [
        "legend = []\n",
        "for i in range(len(results)):\n",
        "    result\n",
        "    plt.plot(results[0][i][0])\n",
        "    legend.append(\"Params \" + str(i+1) + \" MSE\")\n",
        "plt.legend(legend)\n",
        "plt.show()"
      ],
      "metadata": {
        "colab": {
          "base_uri": "https://localhost:8080/",
          "height": 430
        },
        "id": "VFWQkSeDjpb3",
        "outputId": "6e369fef-91d7-4d4e-de4c-2967d584161b"
      },
      "execution_count": null,
      "outputs": [
        {
          "output_type": "display_data",
          "data": {
            "text/plain": [
              "<Figure size 640x480 with 1 Axes>"
            ],
            "image/png": "[encoded data removed]"
          },
          "metadata": {}
        }
      ]
    },
    {
      "cell_type": "code",
      "source": [
        "import pickle\n",
        "\n",
        "# Получение весов модели\n",
        "weights = algorithm[0].get_weights()\n",
        "\n",
        "# Сохранение весов\n",
        "with open('algorithm[0]_weights.pickle', 'wb') as file:\n",
        "    pickle.dump(weights, file)\n"
      ],
      "metadata": {
        "id": "ihlaKQ56qDkg"
      },
      "execution_count": null,
      "outputs": []
    },
    {
      "cell_type": "code",
      "source": [
        "# Загрузка весов\n",
        "with open('model_weights.pickle', 'rb') as file:\n",
        "    weights = pickle.load(file)\n",
        "\n",
        "# Применение весов к модели\n",
        "# model.set_weights(weights)"
      ],
      "metadata": {
        "id": "FQKNt2GcF5jd"
      },
      "execution_count": null,
      "outputs": []
    }
  ]
}